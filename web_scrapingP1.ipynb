{
  "nbformat": 4,
  "nbformat_minor": 0,
  "metadata": {
    "colab": {
      "provenance": []
    },
    "kernelspec": {
      "name": "python3",
      "display_name": "Python 3"
    },
    "language_info": {
      "name": "python"
    }
  },
  "cells": [
    {
      "cell_type": "code",
      "execution_count": null,
      "metadata": {
        "id": "Nd8INJ8q8GLP"
      },
      "outputs": [],
      "source": [
        "import requests"
      ]
    },
    {
      "cell_type": "code",
      "source": [
        "def get_filmography(actor_name):\n",
        "  URL = 'https://www.imdb.com/'"
      ],
      "metadata": {
        "id": "ht2m8VvU8mTB"
      },
      "execution_count": null,
      "outputs": []
    },
    {
      "cell_type": "code",
      "source": [
        "response = requests.get(URL)"
      ],
      "metadata": {
        "id": "_7kK6MKm8uD5"
      },
      "execution_count": null,
      "outputs": []
    },
    {
      "cell_type": "code",
      "source": [
        "print(response.status_code)"
      ],
      "metadata": {
        "colab": {
          "base_uri": "https://localhost:8080/"
        },
        "id": "jlTr1Kdn-YR2",
        "outputId": "66a0666e-58d1-44cc-ca13-a3ef97c7d614"
      },
      "execution_count": null,
      "outputs": [
        {
          "output_type": "stream",
          "name": "stdout",
          "text": [
            "403\n"
          ]
        }
      ]
    },
    {
      "cell_type": "code",
      "source": [
        "response"
      ],
      "metadata": {
        "colab": {
          "base_uri": "https://localhost:8080/"
        },
        "id": "2k1Vynnm81XU",
        "outputId": "70deabc8-6346-45a3-b81c-88814c6341ea"
      },
      "execution_count": null,
      "outputs": [
        {
          "output_type": "execute_result",
          "data": {
            "text/plain": [
              "<Response [403]>"
            ]
          },
          "metadata": {},
          "execution_count": 90
        }
      ]
    },
    {
      "cell_type": "code",
      "source": [
        "response.content"
      ],
      "metadata": {
        "colab": {
          "base_uri": "https://localhost:8080/"
        },
        "id": "UB1W3JgM9AfF",
        "outputId": "c91e3d78-44d2-4e8a-b5a0-374fe925f8e9"
      },
      "execution_count": null,
      "outputs": [
        {
          "output_type": "execute_result",
          "data": {
            "text/plain": [
              "b'<html>\\r\\n<head><title>403 Forbidden</title></head>\\r\\n<body>\\r\\n<center><h1>403 Forbidden</h1></center>\\r\\n</body>\\r\\n</html>\\r\\n'"
            ]
          },
          "metadata": {},
          "execution_count": 91
        }
      ]
    },
    {
      "cell_type": "code",
      "source": [
        "from bs4 import BeautifulSoup"
      ],
      "metadata": {
        "id": "Vc0565qH9NVe"
      },
      "execution_count": null,
      "outputs": []
    },
    {
      "cell_type": "code",
      "source": [
        "soup = BeautifulSoup(response.content, 'html.parser')"
      ],
      "metadata": {
        "id": "wQssZnNl-zDI"
      },
      "execution_count": null,
      "outputs": []
    },
    {
      "cell_type": "code",
      "source": [
        " filmography_section = soup.find('div', class_='filmo-category-section')"
      ],
      "metadata": {
        "id": "cWq20LRWAFmt"
      },
      "execution_count": null,
      "outputs": []
    },
    {
      "cell_type": "code",
      "source": [
        "def extract_film_titles(soup):\n",
        "    filmography_section = soup.find('div', class_='filmo-category-section')\n",
        "    if filmography_section:\n",
        "        film_titles = [film.a.text for film in filmography_section.find_all('div', class_='filmo-row')]\n",
        "        film_titles.reverse()\n",
        "        if len(film_titles) > 0:\n",
        "            return film_titles\n",
        "        else:\n",
        "            print(\"filmography section not found\")\n",
        "            return []"
      ],
      "metadata": {
        "id": "YmDG6XV-CVW8"
      },
      "execution_count": null,
      "outputs": []
    },
    {
      "cell_type": "code",
      "source": [
        "actor_name = \"Leonardo DiCaprio\"\n",
        "filmography = get_filmography(actor_name)\n",
        "\n",
        "if filmography is None or len(filmography) == 0:\n",
        "    print(\"No filmography data found for the actor.\")\n",
        "else:\n",
        "    for index, film_title in enumerate(filmography, start=1):\n",
        "        print(f\"{index}. {film_title}\")\n",
        "\n",
        "#for index, film_title in enumerate(filmography, start=1):\n",
        "  #print(f\"{index}. {film_title}\")"
      ],
      "metadata": {
        "colab": {
          "base_uri": "https://localhost:8080/"
        },
        "id": "oILClR_zC5fu",
        "outputId": "64652518-005d-4a6d-b350-f5d855ac0517"
      },
      "execution_count": null,
      "outputs": [
        {
          "output_type": "stream",
          "name": "stdout",
          "text": [
            "No filmography data found for the actor.\n"
          ]
        }
      ]
    }
  ]
}